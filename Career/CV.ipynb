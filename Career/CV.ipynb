{
 "cells": [
  {
   "cell_type": "code",
   "execution_count": 3,
   "id": "378777bc-8f71-44d4-9b4f-de650b47a4bd",
   "metadata": {
    "tags": []
   },
   "outputs": [],
   "source": [
    "\"\"\"\n",
    "Data Analyst & Software Developer\n",
    "LD Pensions (August 2023 – May 2024)\n",
    "Copenhagen, Denmark\n",
    "\"\"\"\n",
    "\n",
    "def fixed_income_and_credit_portfolios():\n",
    "    \"\"\"\n",
    "    Managed daily analytics for corporate and government bonds:\n",
    "      • Integrated yield curves and spread data from Bloomberg, Nordea Analytics, and Nykredit APIs.\n",
    "      • Provided real-time insights into interest rate risk, credit spread movements, and bond valuations.\n",
    "    \"\"\"\n",
    "    return \"Fixed-income and credit portfolio analytics executed successfully.\"\n",
    "\n",
    "def credit_derivatives_and_structured_products():\n",
    "    \"\"\"\n",
    "    Built monitoring and modeling tools for:\n",
    "      • Credit Default Swaps (CDS), Credit Default Swaptions, and Collateralized Debt Obligations (CDOs).\n",
    "      • Analyzed credit spread volatility and tail risk to optimize hedging and portfolio positioning.\n",
    "    \"\"\"\n",
    "    return \"Credit derivatives and structured product analysis completed.\"\n",
    "\n",
    "def fx_and_fx_derivatives():\n",
    "    \"\"\"\n",
    "    Handled foreign exchange exposures (spot, forwards, non-deliverable forwards) for multi-currency portfolios:\n",
    "      • Developed scenario analyses to assess currency basis risk for cross-border investments.\n",
    "      • Integrated FX exposures into daily risk dashboards for better real-time decisions.\n",
    "    \"\"\"\n",
    "    return \"FX and FX derivatives exposure managed and integrated into daily dashboards.\"\n",
    "\n",
    "def risk_and_pnl_attribution():\n",
    "    \"\"\"\n",
    "    Performed daily P&L attribution for fixed income portfolios:\n",
    "      • Decomposed performance by interest rate, credit spread, and FX components.\n",
    "      • Built scenario stress tests (e.g., parallel shifts, spread widening) to guide hedging strategies.\n",
    "    \"\"\"\n",
    "    return \"Risk and P&L attribution executed with scenario stress testing.\"\n",
    "\n",
    "def buy_side_derivatives_experience():\n",
    "    \"\"\"\n",
    "    Collaborated with the Head of Investment Analytics on derivative structuring:\n",
    "      • Managed interest rate hedges (IRS, swaptions) and credit spread hedges (CDS).\n",
    "      • Oversaw margin calls, daily mark-to-market, and coverage for both plain vanilla and structured products.\n",
    "    \"\"\"\n",
    "    return \"Buy-side derivatives structuring and oversight completed.\"\n",
    "\n",
    "def end_to_end_tech_and_automation():\n",
    "    \"\"\"\n",
    "    Developed Python libraries and ETL workflows to automate:\n",
    "      • Data extraction from Bloomberg, MSCI, Nordea Analytics & Nykredit feeds.\n",
    "      • Daily bond/credit analytics for portfolio managers.\n",
    "      • Scenario modeling (rate shocks, yield curve twists, macroeconomic shifts) akin to Morgan Stanley.\n",
    "    \"\"\"\n",
    "    return \"End-to-end technology and automation workflows delivered successfully.\"\n"
   ]
  },
  {
   "cell_type": "code",
   "execution_count": null,
   "id": "47fc2125-0307-45a1-9ce7-7e18f50b5aad",
   "metadata": {},
   "outputs": [],
   "source": []
  }
 ],
 "metadata": {
  "kernelspec": {
   "display_name": "Python 3 (ipykernel)",
   "language": "python",
   "name": "python3"
  },
  "language_info": {
   "codemirror_mode": {
    "name": "ipython",
    "version": 3
   },
   "file_extension": ".py",
   "mimetype": "text/x-python",
   "name": "python",
   "nbconvert_exporter": "python",
   "pygments_lexer": "ipython3",
   "version": "3.11.4"
  }
 },
 "nbformat": 4,
 "nbformat_minor": 5
}
